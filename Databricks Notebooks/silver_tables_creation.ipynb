{
 "cells": [
  {
   "cell_type": "code",
   "execution_count": 0,
   "metadata": {
    "application/vnd.databricks.v1+cell": {
     "cellMetadata": {
      "byteLimit": 2048000,
      "rowLimit": 10000
     },
     "inputWidgets": {},
     "nuid": "dac662ba-9099-40da-9b13-eefe0b1cc0f2",
     "showTitle": false,
     "tableResultSettingsMap": {},
     "title": ""
    }
   },
   "outputs": [],
   "source": [
    "dbutils.widgets.text(\"storage_account_name\", \"\")\n",
    "storage_account_name = dbutils.widgets.get(\"storage_account_name\")\n",
    "\n",
    "dbutils.widgets.text(\"env\", \"\")\n",
    "env = dbutils.widgets.get(\"env\")"
   ]
  },
  {
   "cell_type": "code",
   "execution_count": 0,
   "metadata": {
    "application/vnd.databricks.v1+cell": {
     "cellMetadata": {
      "byteLimit": 2048000,
      "rowLimit": 10000
     },
     "inputWidgets": {},
     "nuid": "4397ec5d-10ba-414e-8401-5712766731ba",
     "showTitle": false,
     "tableResultSettingsMap": {},
     "title": ""
    }
   },
   "outputs": [
    {
     "output_type": "execute_result",
     "data": {
      "text/plain": [
       "DataFrame[]"
      ]
     },
     "execution_count": 2,
     "metadata": {},
     "output_type": "execute_result"
    }
   ],
   "source": [
    "spark.sql(f\"\"\"\n",
    "          \n",
    "CREATE DATABASE IF NOT EXISTS hive_metastore.{env}_silver        \n",
    "\"\"\")"
   ]
  },
  {
   "cell_type": "code",
   "execution_count": 0,
   "metadata": {
    "application/vnd.databricks.v1+cell": {
     "cellMetadata": {
      "byteLimit": 2048000,
      "rowLimit": 10000
     },
     "inputWidgets": {},
     "nuid": "169246ef-b450-4823-a43c-601b6ba9084a",
     "showTitle": false,
     "tableResultSettingsMap": {},
     "title": ""
    }
   },
   "outputs": [
    {
     "output_type": "execute_result",
     "data": {
      "text/plain": [
       "DataFrame[]"
      ]
     },
     "execution_count": 3,
     "metadata": {},
     "output_type": "execute_result"
    }
   ],
   "source": [
    "spark.sql(f\"\"\"\n",
    "\n",
    "create or replace table {env}_silver.fact_transport_petrol (\n",
    "    \n",
    "    dist_code string,\n",
    "    month date,\n",
    "    fuel_type_petrol int,\n",
    "    vehicleClass_MotorCycle int,\n",
    "    vehicleClass_MotorCar int,\n",
    "    vehicleClass_AutoRickshaw int,\n",
    "    vehicleClass_Agriculture int,\n",
    "    vehicleClass_Others int,\n",
    "    seatCapacity_1_to_3 int,\n",
    "    seatCapacity_4_to_6 int,\n",
    "    seatCapacity_above_6 int,\n",
    "    Brand_new_vehicles int,\n",
    "   `Pre-owned_vehicles` int,\n",
    "    `category_Non-transport` int,\n",
    "    category_Transport int,\n",
    "    seq_no int,\n",
    "    last_insert_dttm timestamp,\n",
    "    load_id string\n",
    ")\n",
    "location 'abfss://silver@{storage_account_name}.dfs.core.windows.net/fact_transport_petrol'\n",
    "\"\"\")"
   ]
  },
  {
   "cell_type": "code",
   "execution_count": 0,
   "metadata": {
    "application/vnd.databricks.v1+cell": {
     "cellMetadata": {
      "byteLimit": 2048000,
      "rowLimit": 10000
     },
     "inputWidgets": {},
     "nuid": "d18039f0-2268-463d-abd8-1c71f8c1abc8",
     "showTitle": false,
     "tableResultSettingsMap": {},
     "title": ""
    }
   },
   "outputs": [
    {
     "output_type": "execute_result",
     "data": {
      "text/plain": [
       "DataFrame[]"
      ]
     },
     "execution_count": 4,
     "metadata": {},
     "output_type": "execute_result"
    }
   ],
   "source": [
    "spark.sql(f\"\"\"\n",
    "\n",
    "create or replace table {env}_silver.fact_transport_diesel (\n",
    "    \n",
    "    dist_code string,\n",
    "    month date,\n",
    "    fuel_type_diesel int,\n",
    "    vehicleClass_MotorCycle int,\n",
    "    vehicleClass_MotorCar int,\n",
    "    vehicleClass_AutoRickshaw int,\n",
    "    vehicleClass_Agriculture int,\n",
    "    vehicleClass_Others int,\n",
    "    seatCapacity_1_to_3 int,\n",
    "    seatCapacity_4_to_6 int,\n",
    "    seatCapacity_above_6 int,\n",
    "    Brand_new_vehicles int,\n",
    "   `Pre-owned_vehicles` int,\n",
    "    `category_Non-transport` int,\n",
    "    category_Transport int,\n",
    "    seq_no int,\n",
    "    last_insert_dttm timestamp,\n",
    "    load_id string\n",
    ")\n",
    "location 'abfss://silver@{storage_account_name}.dfs.core.windows.net/fact_transport_diesel'\n",
    "\"\"\")"
   ]
  },
  {
   "cell_type": "code",
   "execution_count": 0,
   "metadata": {
    "application/vnd.databricks.v1+cell": {
     "cellMetadata": {
      "byteLimit": 2048000,
      "rowLimit": 10000
     },
     "inputWidgets": {},
     "nuid": "4448744a-6af9-49ad-b5e7-c7a4e8d0c6e1",
     "showTitle": false,
     "tableResultSettingsMap": {},
     "title": ""
    }
   },
   "outputs": [
    {
     "output_type": "execute_result",
     "data": {
      "text/plain": [
       "DataFrame[]"
      ]
     },
     "execution_count": 5,
     "metadata": {},
     "output_type": "execute_result"
    }
   ],
   "source": [
    "spark.sql(f\"\"\"\n",
    "\n",
    "create or replace table {env}_silver.fact_transport_electric (\n",
    "    \n",
    "    dist_code string,\n",
    "    month date,\n",
    "    fuel_type_electric int,\n",
    "    vehicleClass_MotorCycle int,\n",
    "    vehicleClass_MotorCar int,\n",
    "    vehicleClass_AutoRickshaw int,\n",
    "    vehicleClass_Agriculture int,\n",
    "    vehicleClass_Others int,\n",
    "    seatCapacity_1_to_3 int,\n",
    "    seatCapacity_4_to_6 int,\n",
    "    seatCapacity_above_6 int,\n",
    "    Brand_new_vehicles int,\n",
    "   `Pre-owned_vehicles` int,\n",
    "    `category_Non-transport` int,\n",
    "    category_Transport int,\n",
    "    seq_no int,\n",
    "    last_insert_dttm timestamp,\n",
    "    load_id string\n",
    ")\n",
    "location 'abfss://silver@{storage_account_name}.dfs.core.windows.net/fact_transport_electric'\n",
    "\"\"\")"
   ]
  },
  {
   "cell_type": "code",
   "execution_count": 0,
   "metadata": {
    "application/vnd.databricks.v1+cell": {
     "cellMetadata": {
      "byteLimit": 2048000,
      "rowLimit": 10000
     },
     "inputWidgets": {},
     "nuid": "a6bbcdae-6f79-4e53-98c5-6081924dc23d",
     "showTitle": false,
     "tableResultSettingsMap": {},
     "title": ""
    }
   },
   "outputs": [
    {
     "output_type": "execute_result",
     "data": {
      "text/plain": [
       "DataFrame[]"
      ]
     },
     "execution_count": 6,
     "metadata": {},
     "output_type": "execute_result"
    }
   ],
   "source": [
    "spark.sql(f\"\"\"\n",
    "\n",
    "create or replace table {env}_silver.fact_transport_others (\n",
    "    \n",
    "    dist_code string,\n",
    "    month string,\n",
    "    fuel_type_others int,\n",
    "    vehicleClass_MotorCycle int,\n",
    "    vehicleClass_MotorCar int,\n",
    "    vehicleClass_AutoRickshaw int,\n",
    "    vehicleClass_Agriculture int,\n",
    "    vehicleClass_Others int,\n",
    "    seatCapacity_1_to_3 int,\n",
    "    seatCapacity_4_to_6 int,\n",
    "    seatCapacity_above_6 int,\n",
    "    Brand_new_vehicles int,\n",
    "    `Pre-owned_vehicles` int,\n",
    "    `category_Non-transport` int,\n",
    "    category_Transport int,\n",
    "    seq_no int,\n",
    "    last_insert_dttm timestamp,\n",
    "    load_id string\n",
    ")\n",
    "location 'abfss://silver@{storage_account_name}.dfs.core.windows.net/fact_transport_others'\n",
    "\n",
    "\"\"\")"
   ]
  },
  {
   "cell_type": "code",
   "execution_count": 0,
   "metadata": {
    "application/vnd.databricks.v1+cell": {
     "cellMetadata": {
      "byteLimit": 2048000,
      "rowLimit": 10000
     },
     "inputWidgets": {},
     "nuid": "632b8ff6-cbac-4a1e-bb8c-133b00ce8b92",
     "showTitle": false,
     "tableResultSettingsMap": {},
     "title": ""
    }
   },
   "outputs": [
    {
     "output_type": "execute_result",
     "data": {
      "text/plain": [
       "DataFrame[]"
      ]
     },
     "execution_count": 7,
     "metadata": {},
     "output_type": "execute_result"
    }
   ],
   "source": [
    "spark.sql(f\"\"\"\n",
    "          \n",
    "create or replace table {env}_silver.dim_date (\n",
    "\n",
    "    month date,\n",
    "    Mmm string,\n",
    "    quarter string,\n",
    "    fiscal_year int,\n",
    "    last_insert_dttm timestamp,\n",
    "    load_id string\n",
    ")\n",
    "location 'abfss://silver@{storage_account_name}.dfs.core.windows.net/dim_date'\n",
    "\"\"\")"
   ]
  },
  {
   "cell_type": "code",
   "execution_count": 0,
   "metadata": {
    "application/vnd.databricks.v1+cell": {
     "cellMetadata": {
      "byteLimit": 2048000,
      "implicitDf": true,
      "rowLimit": 10000
     },
     "inputWidgets": {},
     "nuid": "263ceb2c-8fb5-4937-909d-69fc58d547e3",
     "showTitle": false,
     "tableResultSettingsMap": {},
     "title": ""
    }
   },
   "outputs": [
    {
     "output_type": "execute_result",
     "data": {
      "text/plain": [
       "DataFrame[]"
      ]
     },
     "execution_count": 8,
     "metadata": {},
     "output_type": "execute_result"
    }
   ],
   "source": [
    "spark.sql(f\"\"\"\n",
    "          \n",
    "create or replace table {env}_silver.dim_districts (\n",
    "\n",
    "    dist_code string,\n",
    "    district string,\n",
    "    last_insert_dttm timestamp,\n",
    "    load_id string\n",
    ")\n",
    "location 'abfss://silver@{storage_account_name}.dfs.core.windows.net/dim_districts'\n",
    "\"\"\")"
   ]
  },
  {
   "cell_type": "code",
   "execution_count": 0,
   "metadata": {
    "application/vnd.databricks.v1+cell": {
     "cellMetadata": {
      "byteLimit": 2048000,
      "rowLimit": 10000
     },
     "inputWidgets": {},
     "nuid": "fad095e9-38bf-40e1-8438-e7651343d887",
     "showTitle": false,
     "tableResultSettingsMap": {},
     "title": ""
    }
   },
   "outputs": [
    {
     "output_type": "execute_result",
     "data": {
      "text/plain": [
       "DataFrame[]"
      ]
     },
     "execution_count": 12,
     "metadata": {},
     "output_type": "execute_result"
    }
   ],
   "source": [
    "spark.sql(f\"\"\"\n",
    "          \n",
    "create or replace table {env}_silver.fact_stamps (\n",
    "\n",
    "    dist_code string,\n",
    "    month date,\n",
    "    documents_registered_cnt int,\n",
    "    documents_registered_rev double,\n",
    "    estamps_challans_cnt int,\n",
    "    estamps_challans_rev int,\n",
    "    last_insert_dttm timestamp,\n",
    "    load_id string\n",
    ")\n",
    "location 'abfss://silver@{storage_account_name}.dfs.core.windows.net/fact_stamps'\n",
    "\"\"\")"
   ]
  },
  {
   "cell_type": "code",
   "execution_count": 0,
   "metadata": {
    "application/vnd.databricks.v1+cell": {
     "cellMetadata": {
      "byteLimit": 2048000,
      "rowLimit": 10000
     },
     "inputWidgets": {},
     "nuid": "eb2b171f-5909-4627-a2b0-2c24c5583645",
     "showTitle": false,
     "tableResultSettingsMap": {},
     "title": ""
    }
   },
   "outputs": [
    {
     "output_type": "execute_result",
     "data": {
      "text/plain": [
       "DataFrame[]"
      ]
     },
     "execution_count": 13,
     "metadata": {},
     "output_type": "execute_result"
    }
   ],
   "source": [
    "spark.sql(f\"\"\"\n",
    "          \n",
    "create or replace table {env}_silver.fact_ts_ipass (\n",
    "\n",
    "    dist_code string,\n",
    "    month date,\n",
    "    sector string,\n",
    "    investment_in_cr double,\n",
    "    number_of_employees int,\n",
    "    last_insert_dttm timestamp,\n",
    "    load_id string\n",
    ")\n",
    "location 'abfss://silver@{storage_account_name}.dfs.core.windows.net/fact_ts_ipass'\n",
    "\"\"\")"
   ]
  }
 ],
 "metadata": {
  "application/vnd.databricks.v1+notebook": {
   "computePreferences": null,
   "dashboards": [],
   "environmentMetadata": {
    "base_environment": "",
    "client": "1"
   },
   "language": "python",
   "notebookMetadata": {
    "mostRecentlyExecutedCommandWithImplicitDF": {
     "commandId": -1,
     "dataframes": [
      "_sqldf"
     ]
    },
    "pythonIndentUnit": 4
   },
   "notebookName": "silver_tables_creation",
   "widgets": {
    "env": {
     "currentValue": "dev",
     "nuid": "e09c7172-c7f2-48a1-a643-83a2eaea4325",
     "typedWidgetInfo": {
      "autoCreated": false,
      "defaultValue": "",
      "label": null,
      "name": "env",
      "options": {
       "widgetDisplayType": "Text",
       "validationRegex": null
      },
      "parameterDataType": "String"
     },
     "widgetInfo": {
      "widgetType": "text",
      "defaultValue": "",
      "label": null,
      "name": "env",
      "options": {
       "widgetType": "text",
       "autoCreated": null,
       "validationRegex": null
      }
     }
    },
    "storage_account_name": {
     "currentValue": "holadlsgen2storagedev",
     "nuid": "09ba68ff-6ee0-49cf-961d-8f2ac40541e0",
     "typedWidgetInfo": {
      "autoCreated": false,
      "defaultValue": "",
      "label": null,
      "name": "storage_account_name",
      "options": {
       "widgetDisplayType": "Text",
       "validationRegex": null
      },
      "parameterDataType": "String"
     },
     "widgetInfo": {
      "widgetType": "text",
      "defaultValue": "",
      "label": null,
      "name": "storage_account_name",
      "options": {
       "widgetType": "text",
       "autoCreated": null,
       "validationRegex": null
      }
     }
    }
   }
  },
  "language_info": {
   "name": "python"
  }
 },
 "nbformat": 4,
 "nbformat_minor": 0
}