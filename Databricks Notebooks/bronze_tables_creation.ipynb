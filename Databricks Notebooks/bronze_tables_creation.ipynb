{
 "cells": [
  {
   "cell_type": "code",
   "execution_count": 0,
   "metadata": {
    "application/vnd.databricks.v1+cell": {
     "cellMetadata": {
      "byteLimit": 2048000,
      "rowLimit": 10000
     },
     "inputWidgets": {},
     "nuid": "0a6c0968-6bba-4158-9e07-827f25f3038f",
     "showTitle": false,
     "tableResultSettingsMap": {},
     "title": ""
    }
   },
   "outputs": [],
   "source": [
    "dbutils.widgets.text(\"storage_account_name\",\"\")\n",
    "storage_account_name = dbutils.widgets.get(\"storage_account_name\")\n",
    "\n",
    "dbutils.widgets.text(\"env\",\"\")\n",
    "env = dbutils.widgets.get(\"env\")"
   ]
  },
  {
   "cell_type": "code",
   "execution_count": 0,
   "metadata": {
    "application/vnd.databricks.v1+cell": {
     "cellMetadata": {
      "byteLimit": 2048000,
      "rowLimit": 10000
     },
     "inputWidgets": {},
     "nuid": "9da9b4be-5bb3-41c0-8883-6d7f70959016",
     "showTitle": false,
     "tableResultSettingsMap": {},
     "title": ""
    }
   },
   "outputs": [
    {
     "output_type": "execute_result",
     "data": {
      "text/plain": [
       "DataFrame[]"
      ]
     },
     "execution_count": 2,
     "metadata": {},
     "output_type": "execute_result"
    }
   ],
   "source": [
    "spark.sql(f\"\"\"\n",
    "          \n",
    "create database if not exists hive_metastore.{env}_bronze\n",
    "\n",
    "\"\"\")"
   ]
  },
  {
   "cell_type": "code",
   "execution_count": 0,
   "metadata": {
    "application/vnd.databricks.v1+cell": {
     "cellMetadata": {
      "byteLimit": 2048000,
      "rowLimit": 10000
     },
     "inputWidgets": {},
     "nuid": "f4990b2b-9dc6-4104-877b-5934d6fa5c72",
     "showTitle": false,
     "tableResultSettingsMap": {},
     "title": ""
    }
   },
   "outputs": [
    {
     "output_type": "execute_result",
     "data": {
      "text/plain": [
       "DataFrame[]"
      ]
     },
     "execution_count": 3,
     "metadata": {},
     "output_type": "execute_result"
    }
   ],
   "source": [
    "spark.sql(f\"\"\"\n",
    "\n",
    "create or replace table {env}_bronze.fact_transport_diesel (\n",
    "    \n",
    "    dist_code string,\n",
    "    month string,\n",
    "    fuel_type_diesel string,\n",
    "    vehicleClass_MotorCycle string,\n",
    "    vehicleClass_MotorCar string,\n",
    "    vehicleClass_AutoRickshaw string,\n",
    "    vehicleClass_Agriculture string,\n",
    "    vehicleClass_Others string,\n",
    "    seatCapacity_1_to_3 string,\n",
    "    seatCapacity_4_to_6 string,\n",
    "    seatCapacity_above_6 string,\n",
    "    Brand_new_vehicles string,\n",
    "    `Pre-owned_vehicles` string,\n",
    "    `category_Non-transport` string,\n",
    "    category_Transport string,\n",
    "    seq_no string,\n",
    "    last_insert_dttm string,\n",
    "    load_id string\n",
    ")\n",
    "location 'abfss://bronze@{storage_account_name}.dfs.core.windows.net/fact_transport_diesel'\n",
    "\"\"\")\n",
    "    "
   ]
  },
  {
   "cell_type": "code",
   "execution_count": 0,
   "metadata": {
    "application/vnd.databricks.v1+cell": {
     "cellMetadata": {
      "byteLimit": 2048000,
      "rowLimit": 10000
     },
     "inputWidgets": {},
     "nuid": "17d96859-62e8-4cfb-bae8-10a6097d7b34",
     "showTitle": false,
     "tableResultSettingsMap": {},
     "title": ""
    }
   },
   "outputs": [
    {
     "output_type": "execute_result",
     "data": {
      "text/plain": [
       "DataFrame[]"
      ]
     },
     "execution_count": 5,
     "metadata": {},
     "output_type": "execute_result"
    }
   ],
   "source": [
    "spark.sql(f\"\"\"\n",
    "\n",
    "create or replace table {env}_bronze.fact_transport_petrol (\n",
    "    \n",
    "    dist_code string,\n",
    "    month string,\n",
    "    fuel_type_petrol string,\n",
    "    vehicleClass_MotorCycle string,\n",
    "    vehicleClass_MotorCar string,\n",
    "    vehicleClass_AutoRickshaw string,\n",
    "    vehicleClass_Agriculture string,\n",
    "    vehicleClass_Others string,\n",
    "    seatCapacity_1_to_3 string,\n",
    "    seatCapacity_4_to_6 string,\n",
    "    seatCapacity_above_6 string,\n",
    "    Brand_new_vehicles string,\n",
    "   `Pre-owned_vehicles` string,\n",
    "    `category_Non-transport` string,\n",
    "    category_Transport string,\n",
    "    seq_no string,\n",
    "    last_insert_dttm string,\n",
    "    load_id string\n",
    ")\n",
    "location 'abfss://bronze@{storage_account_name}.dfs.core.windows.net/fact_transport_petrol'\n",
    "\"\"\")"
   ]
  },
  {
   "cell_type": "code",
   "execution_count": 0,
   "metadata": {
    "application/vnd.databricks.v1+cell": {
     "cellMetadata": {
      "byteLimit": 2048000,
      "rowLimit": 10000
     },
     "inputWidgets": {},
     "nuid": "dad09d81-c7fd-49d3-a912-89aea17e31da",
     "showTitle": false,
     "tableResultSettingsMap": {},
     "title": ""
    }
   },
   "outputs": [
    {
     "output_type": "execute_result",
     "data": {
      "text/plain": [
       "DataFrame[]"
      ]
     },
     "execution_count": 7,
     "metadata": {},
     "output_type": "execute_result"
    }
   ],
   "source": [
    "spark.sql(f\"\"\"\n",
    "\n",
    "create or replace table {env}_bronze.fact_transport_electric (\n",
    "    \n",
    "    dist_code string,\n",
    "    month string,\n",
    "    fuel_type_electric string,\n",
    "    vehicleClass_MotorCycle string,\n",
    "    vehicleClass_MotorCar string,\n",
    "    vehicleClass_AutoRickshaw string,\n",
    "    vehicleClass_Agriculture string,\n",
    "    vehicleClass_Others string,\n",
    "    seatCapacity_1_to_3 string,\n",
    "    seatCapacity_4_to_6 string,\n",
    "    seatCapacity_above_6 string,\n",
    "    Brand_new_vehicles string,\n",
    "    `Pre-owned_vehicles` string,\n",
    "    `category_Non-transport` string,\n",
    "    category_Transport string,\n",
    "    seq_no string,\n",
    "    last_insert_dttm string,\n",
    "    load_id string\n",
    ")\n",
    "location 'abfss://bronze@{storage_account_name}.dfs.core.windows.net/fact_transport_electric'\n",
    "\"\"\")"
   ]
  },
  {
   "cell_type": "code",
   "execution_count": 0,
   "metadata": {
    "application/vnd.databricks.v1+cell": {
     "cellMetadata": {
      "byteLimit": 2048000,
      "rowLimit": 10000
     },
     "inputWidgets": {},
     "nuid": "ce4a73f5-ef2d-41a9-9d00-3c299b731e78",
     "showTitle": false,
     "tableResultSettingsMap": {},
     "title": ""
    }
   },
   "outputs": [
    {
     "output_type": "execute_result",
     "data": {
      "text/plain": [
       "DataFrame[]"
      ]
     },
     "execution_count": 8,
     "metadata": {},
     "output_type": "execute_result"
    }
   ],
   "source": [
    "spark.sql(f\"\"\"\n",
    "\n",
    "create or replace table {env}_bronze.fact_transport_others (\n",
    "    \n",
    "    dist_code string,\n",
    "    month string,\n",
    "    fuel_type_others string,\n",
    "    vehicleClass_MotorCycle string,\n",
    "    vehicleClass_MotorCar string,\n",
    "    vehicleClass_AutoRickshaw string,\n",
    "    vehicleClass_Agriculture string,\n",
    "    vehicleClass_Others string,\n",
    "    seatCapacity_1_to_3 string,\n",
    "    seatCapacity_4_to_6 string,\n",
    "    seatCapacity_above_6 string,\n",
    "    Brand_new_vehicles string,\n",
    "    `Pre-owned_vehicles` string,\n",
    "    `category_Non-transport` string,\n",
    "    category_Transport string,\n",
    "    seq_no string,\n",
    "    last_insert_dttm string,\n",
    "    load_id string\n",
    ")\n",
    "location 'abfss://bronze@{storage_account_name}.dfs.core.windows.net/fact_transport_others'\n",
    "\n",
    "\"\"\")"
   ]
  },
  {
   "cell_type": "code",
   "execution_count": 0,
   "metadata": {
    "application/vnd.databricks.v1+cell": {
     "cellMetadata": {
      "byteLimit": 2048000,
      "rowLimit": 10000
     },
     "inputWidgets": {},
     "nuid": "2e4da1e0-4632-4170-83a2-cfb6fb512fef",
     "showTitle": false,
     "tableResultSettingsMap": {},
     "title": ""
    }
   },
   "outputs": [
    {
     "output_type": "execute_result",
     "data": {
      "text/plain": [
       "DataFrame[]"
      ]
     },
     "execution_count": 7,
     "metadata": {},
     "output_type": "execute_result"
    }
   ],
   "source": [
    "spark.sql(f\"\"\"\n",
    "          \n",
    "create or replace table {env}_bronze.dim_date (\n",
    "\n",
    "    month string,\n",
    "    Mmm string,\n",
    "    quarter string,\n",
    "    fiscal_year int,\n",
    "    last_insert_dttm string,\n",
    "    load_id string\n",
    ")\n",
    "location 'abfss://bronze@{storage_account_name}.dfs.core.windows.net/dim_date'\n",
    "\"\"\")"
   ]
  },
  {
   "cell_type": "code",
   "execution_count": 0,
   "metadata": {
    "application/vnd.databricks.v1+cell": {
     "cellMetadata": {
      "byteLimit": 2048000,
      "rowLimit": 10000
     },
     "inputWidgets": {},
     "nuid": "d2c7aa1b-aee8-48e7-ad1f-0a2f556989d5",
     "showTitle": false,
     "tableResultSettingsMap": {},
     "title": ""
    }
   },
   "outputs": [
    {
     "output_type": "execute_result",
     "data": {
      "text/plain": [
       "DataFrame[]"
      ]
     },
     "execution_count": 8,
     "metadata": {},
     "output_type": "execute_result"
    }
   ],
   "source": [
    "spark.sql(f\"\"\"\n",
    "          \n",
    "create or replace table {env}_bronze.dim_districts (\n",
    "\n",
    "    dist_code string,\n",
    "    district string,\n",
    "    last_insert_dttm string,\n",
    "    load_id string\n",
    ")\n",
    "location 'abfss://bronze@{storage_account_name}.dfs.core.windows.net/dim_districts'\n",
    "\"\"\")"
   ]
  },
  {
   "cell_type": "code",
   "execution_count": 0,
   "metadata": {
    "application/vnd.databricks.v1+cell": {
     "cellMetadata": {
      "byteLimit": 2048000,
      "rowLimit": 10000
     },
     "inputWidgets": {},
     "nuid": "c99a71fb-a3c4-4f21-883c-d027e91c2878",
     "showTitle": false,
     "tableResultSettingsMap": {},
     "title": ""
    }
   },
   "outputs": [
    {
     "output_type": "execute_result",
     "data": {
      "text/plain": [
       "DataFrame[]"
      ]
     },
     "execution_count": 9,
     "metadata": {},
     "output_type": "execute_result"
    }
   ],
   "source": [
    "spark.sql(f\"\"\"\n",
    "          \n",
    "create or replace table {env}_bronze.fact_stamps (\n",
    "\n",
    "    dist_code string,\n",
    "    month string,\n",
    "    documents_registered_cnt int,\n",
    "    documents_registered_rev double,\n",
    "    estamps_challans_cnt int,\n",
    "    estamps_challans_rev double,\n",
    "    last_insert_dttm string,\n",
    "    load_id string\n",
    ")\n",
    "location 'abfss://bronze@{storage_account_name}.dfs.core.windows.net/fact_stamps'\n",
    "\"\"\")"
   ]
  },
  {
   "cell_type": "code",
   "execution_count": 0,
   "metadata": {
    "application/vnd.databricks.v1+cell": {
     "cellMetadata": {
      "byteLimit": 2048000,
      "rowLimit": 10000
     },
     "inputWidgets": {},
     "nuid": "5f624cf0-84ef-4d65-b104-10053898f612",
     "showTitle": false,
     "tableResultSettingsMap": {},
     "title": ""
    }
   },
   "outputs": [
    {
     "output_type": "execute_result",
     "data": {
      "text/plain": [
       "DataFrame[]"
      ]
     },
     "execution_count": 10,
     "metadata": {},
     "output_type": "execute_result"
    }
   ],
   "source": [
    "spark.sql(f\"\"\"\n",
    "          \n",
    "create or replace table {env}_bronze.fact_ts_ipass (\n",
    "\n",
    "    dist_code string,\n",
    "    month string,\n",
    "    sector string,\n",
    "    investment_in_cr double,\n",
    "    number_of_employees int,\n",
    "    last_insert_dttm string,\n",
    "    load_id string\n",
    ")\n",
    "location 'abfss://bronze@{storage_account_name}.dfs.core.windows.net/fact_ts_ipass'\n",
    "\"\"\")"
   ]
  }
 ],
 "metadata": {
  "application/vnd.databricks.v1+notebook": {
   "computePreferences": null,
   "dashboards": [],
   "environmentMetadata": {
    "base_environment": "",
    "client": "1"
   },
   "language": "python",
   "notebookMetadata": {
    "mostRecentlyExecutedCommandWithImplicitDF": {
     "commandId": 5764004781992880,
     "dataframes": [
      "_sqldf"
     ]
    },
    "pythonIndentUnit": 4
   },
   "notebookName": "bronze_tables_creation",
   "widgets": {
    "env": {
     "currentValue": "dev",
     "nuid": "f270f46e-7079-47b3-b53a-a86ad506819a",
     "typedWidgetInfo": {
      "autoCreated": false,
      "defaultValue": "",
      "label": null,
      "name": "env",
      "options": {
       "widgetDisplayType": "Text",
       "validationRegex": null
      },
      "parameterDataType": "String"
     },
     "widgetInfo": {
      "widgetType": "text",
      "defaultValue": "",
      "label": null,
      "name": "env",
      "options": {
       "widgetType": "text",
       "autoCreated": null,
       "validationRegex": null
      }
     }
    },
    "storage_account_name": {
     "currentValue": "holadlsgen2storagedev",
     "nuid": "2f0f3211-ebab-40d0-b739-cdbd52abf4ab",
     "typedWidgetInfo": {
      "autoCreated": false,
      "defaultValue": "",
      "label": null,
      "name": "storage_account_name",
      "options": {
       "widgetDisplayType": "Text",
       "validationRegex": null
      },
      "parameterDataType": "String"
     },
     "widgetInfo": {
      "widgetType": "text",
      "defaultValue": "",
      "label": null,
      "name": "storage_account_name",
      "options": {
       "widgetType": "text",
       "autoCreated": null,
       "validationRegex": null
      }
     }
    }
   }
  },
  "language_info": {
   "name": "python"
  }
 },
 "nbformat": 4,
 "nbformat_minor": 0
}