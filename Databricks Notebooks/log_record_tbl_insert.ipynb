{
 "cells": [
  {
   "cell_type": "code",
   "execution_count": 0,
   "metadata": {
    "application/vnd.databricks.v1+cell": {
     "cellMetadata": {
      "byteLimit": 2048000,
      "rowLimit": 10000
     },
     "inputWidgets": {},
     "nuid": "1f180ab4-82a2-49f0-952c-f69750ae362b",
     "showTitle": false,
     "tableResultSettingsMap": {},
     "title": ""
    }
   },
   "outputs": [],
   "source": [
    "#creating widgets to get the parameters\n",
    "dbutils.widgets.text(\"env\",\"\")\n",
    "dbutils.widgets.text(\"pipeLineName\",\"\")\n",
    "dbutils.widgets.text(\"logMessage\",\"\")\n",
    "dbutils.widgets.text(\"status\",\"\")\n",
    "dbutils.widgets.text(\"triggerType\",\"\")\n",
    "dbutils.widgets.text(\"loadId\",\"\")\n",
    "dbutils.widgets.text(\"logTimeStamp\",\"\")"
   ]
  },
  {
   "cell_type": "code",
   "execution_count": 0,
   "metadata": {
    "application/vnd.databricks.v1+cell": {
     "cellMetadata": {
      "byteLimit": 2048000,
      "rowLimit": 10000
     },
     "inputWidgets": {},
     "nuid": "ab61789a-8a36-4323-82e8-c4d5c2b4398b",
     "showTitle": false,
     "tableResultSettingsMap": {},
     "title": ""
    }
   },
   "outputs": [],
   "source": [
    "#Creating Variables for Wedgts\n",
    "env=dbutils.widgets.get(\"env\")\n",
    "pipeLineName=dbutils.widgets.get(\"pipeLineName\")\n",
    "logMessage=dbutils.widgets.get(\"logMessage\")\n",
    "status=dbutils.widgets.get(\"status\")\n",
    "triggerType=dbutils.widgets.get(\"triggerType\")\n",
    "loadId=dbutils.widgets.get(\"loadId\")\n",
    "logTimeStamp=dbutils.widgets.get(\"logTimeStamp\")"
   ]
  },
  {
   "cell_type": "code",
   "execution_count": 0,
   "metadata": {
    "application/vnd.databricks.v1+cell": {
     "cellMetadata": {
      "byteLimit": 2048000,
      "rowLimit": 10000
     },
     "inputWidgets": {},
     "nuid": "6ddb2556-63c8-4839-aeaf-f8f31cf148c0",
     "showTitle": false,
     "tableResultSettingsMap": {},
     "title": ""
    }
   },
   "outputs": [],
   "source": [
    "#To escape single quotes, use back slash(\\)\n",
    "status = status.replace('\\'','\"')"
   ]
  },
  {
   "cell_type": "code",
   "execution_count": 0,
   "metadata": {
    "application/vnd.databricks.v1+cell": {
     "cellMetadata": {
      "byteLimit": 2048000,
      "rowLimit": 10000
     },
     "inputWidgets": {},
     "nuid": "29d89d5f-3d6b-4949-bf25-f5b8d387b77d",
     "showTitle": false,
     "tableResultSettingsMap": {},
     "title": ""
    }
   },
   "outputs": [
    {
     "output_type": "execute_result",
     "data": {
      "text/plain": [
       "DataFrame[num_affected_rows: bigint, num_inserted_rows: bigint]"
      ]
     },
     "execution_count": 6,
     "metadata": {},
     "output_type": "execute_result"
    }
   ],
   "source": [
    "#Updating the pipeline run status to log table\n",
    "spark.sql(f\"\"\"insert into {env}_log.log_record_tbl values ('{env}','{pipeLineName}','{logMessage}','{status}','{triggerType}','{loadId}',cast('{logTimeStamp}' as Timestamp))\"\"\")"
   ]
  },
  {
   "cell_type": "code",
   "execution_count": 0,
   "metadata": {
    "application/vnd.databricks.v1+cell": {
     "cellMetadata": {
      "byteLimit": 2048000,
      "implicitDf": true,
      "rowLimit": 10000
     },
     "inputWidgets": {},
     "nuid": "29cccce7-50ae-4f9f-b72f-6c66fbe26dc7",
     "showTitle": false,
     "tableResultSettingsMap": {},
     "title": ""
    }
   },
   "outputs": [
    {
     "output_type": "display_data",
     "data": {
      "text/html": [
       "<style scoped>\n",
       "  .table-result-container {\n",
       "    max-height: 300px;\n",
       "    overflow: auto;\n",
       "  }\n",
       "  table, th, td {\n",
       "    border: 1px solid black;\n",
       "    border-collapse: collapse;\n",
       "  }\n",
       "  th, td {\n",
       "    padding: 5px;\n",
       "  }\n",
       "  th {\n",
       "    text-align: left;\n",
       "  }\n",
       "</style><div class='table-result-container'><table class='table-result'><thead style='background-color: white'><tr><th>env</th><th>pipeLineName</th><th>logMessage</th><th>status</th><th>triggerType</th><th>loadId</th><th>logTimeStamp</th></tr></thead><tbody><tr><td>dev</td><td>1b_pl_source_sftp_ingestion</td><td>Copied fmcg_fact_transport_petrol.csvfile to adls landing container.</td><td>success</td><td>a731e9edf81e4640829f7a40b0e8dbe0</td><td>cbeb1a24-2a4d-4e7d-bcdf-6c95f353f77a</td><td>2025-01-26T17:53:46Z</td></tr><tr><td>dev</td><td>1b_pl_source_sftp_ingestion</td><td>Copied fmcg_fact_transport_others.csvfile to adls landing container.</td><td>success</td><td>a731e9edf81e4640829f7a40b0e8dbe0</td><td>cbeb1a24-2a4d-4e7d-bcdf-6c95f353f77a</td><td>2025-01-26T17:52:57Z</td></tr><tr><td>dev</td><td>1b_pl_source_sftp_ingestion</td><td>Copied fmcg_fact_transport_electric.csvfile to adls landing container.</td><td>success</td><td>a731e9edf81e4640829f7a40b0e8dbe0</td><td>cbeb1a24-2a4d-4e7d-bcdf-6c95f353f77a</td><td>2025-01-26T17:52:08Z</td></tr><tr><td>dev</td><td>1b_pl_source_sftp_ingestion</td><td>Copied fmcg_fact_transport_diesel.csvfile to adls landing container.</td><td>success</td><td>a731e9edf81e4640829f7a40b0e8dbe0</td><td>cbeb1a24-2a4d-4e7d-bcdf-6c95f353f77a</td><td>2025-01-26T17:51:19Z</td></tr><tr><td>dev</td><td>1b_pl_source_sftp_ingestion</td><td>4files available in source location to ingest</td><td>success</td><td>a731e9edf81e4640829f7a40b0e8dbe0</td><td>cbeb1a24-2a4d-4e7d-bcdf-6c95f353f77a</td><td>2025-01-26T17:50:19Z</td></tr></tbody></table></div>"
      ]
     },
     "metadata": {
      "application/vnd.databricks.v1+output": {
       "addedWidgets": {},
       "aggData": [],
       "aggError": "",
       "aggOverflow": false,
       "aggSchema": [],
       "aggSeriesLimitReached": false,
       "aggType": "",
       "arguments": {},
       "columnCustomDisplayInfos": {},
       "data": [
        [
         "dev",
         "1b_pl_source_sftp_ingestion",
         "Copied fmcg_fact_transport_petrol.csvfile to adls landing container.",
         "success",
         "a731e9edf81e4640829f7a40b0e8dbe0",
         "cbeb1a24-2a4d-4e7d-bcdf-6c95f353f77a",
         "2025-01-26T17:53:46Z"
        ],
        [
         "dev",
         "1b_pl_source_sftp_ingestion",
         "Copied fmcg_fact_transport_others.csvfile to adls landing container.",
         "success",
         "a731e9edf81e4640829f7a40b0e8dbe0",
         "cbeb1a24-2a4d-4e7d-bcdf-6c95f353f77a",
         "2025-01-26T17:52:57Z"
        ],
        [
         "dev",
         "1b_pl_source_sftp_ingestion",
         "Copied fmcg_fact_transport_electric.csvfile to adls landing container.",
         "success",
         "a731e9edf81e4640829f7a40b0e8dbe0",
         "cbeb1a24-2a4d-4e7d-bcdf-6c95f353f77a",
         "2025-01-26T17:52:08Z"
        ],
        [
         "dev",
         "1b_pl_source_sftp_ingestion",
         "Copied fmcg_fact_transport_diesel.csvfile to adls landing container.",
         "success",
         "a731e9edf81e4640829f7a40b0e8dbe0",
         "cbeb1a24-2a4d-4e7d-bcdf-6c95f353f77a",
         "2025-01-26T17:51:19Z"
        ],
        [
         "dev",
         "1b_pl_source_sftp_ingestion",
         "4files available in source location to ingest",
         "success",
         "a731e9edf81e4640829f7a40b0e8dbe0",
         "cbeb1a24-2a4d-4e7d-bcdf-6c95f353f77a",
         "2025-01-26T17:50:19Z"
        ]
       ],
       "datasetInfos": [],
       "dbfsResultPath": null,
       "isJsonSchema": true,
       "metadata": {
        "dataframeName": "_sqldf",
        "executionCount": 3
       },
       "overflow": false,
       "plotOptions": {
        "customPlotOptions": {},
        "displayType": "table",
        "pivotAggregation": null,
        "pivotColumns": null,
        "xColumns": null,
        "yColumns": null
       },
       "removedWidgets": [],
       "schema": [
        {
         "metadata": "{}",
         "name": "env",
         "type": "\"string\""
        },
        {
         "metadata": "{}",
         "name": "pipeLineName",
         "type": "\"string\""
        },
        {
         "metadata": "{}",
         "name": "logMessage",
         "type": "\"string\""
        },
        {
         "metadata": "{}",
         "name": "status",
         "type": "\"string\""
        },
        {
         "metadata": "{}",
         "name": "triggerType",
         "type": "\"string\""
        },
        {
         "metadata": "{}",
         "name": "loadId",
         "type": "\"string\""
        },
        {
         "metadata": "{}",
         "name": "logTimeStamp",
         "type": "\"timestamp\""
        }
       ],
       "type": "table"
      }
     },
     "output_type": "display_data"
    }
   ],
   "source": [
    "%sql\n",
    "select * from hive_metastore.dev_log.log_record_tbl where loadId = 'cbeb1a24-2a4d-4e7d-bcdf-6c95f353f77a' order by logTimeStamp desc;"
   ]
  }
 ],
 "metadata": {
  "application/vnd.databricks.v1+notebook": {
   "computePreferences": null,
   "dashboards": [],
   "environmentMetadata": null,
   "language": "python",
   "notebookMetadata": {
    "mostRecentlyExecutedCommandWithImplicitDF": {
     "commandId": 6138057124732637,
     "dataframes": [
      "_sqldf"
     ]
    },
    "pythonIndentUnit": 4
   },
   "notebookName": "log_record_tbl_insert",
   "widgets": {
    "env": {
     "currentValue": "dev",
     "nuid": "31aa2310-6f2e-47da-84f3-cbc60c7542eb",
     "typedWidgetInfo": {
      "autoCreated": false,
      "defaultValue": "",
      "label": null,
      "name": "env",
      "options": {
       "widgetDisplayType": "Text",
       "validationRegex": null
      },
      "parameterDataType": "String"
     },
     "widgetInfo": {
      "widgetType": "text",
      "defaultValue": "",
      "label": null,
      "name": "env",
      "options": {
       "widgetType": "text",
       "autoCreated": null,
       "validationRegex": null
      }
     }
    },
    "loadId": {
     "currentValue": "test",
     "nuid": "e34a965c-cc6f-4d75-bbcd-aff68225472f",
     "typedWidgetInfo": {
      "autoCreated": false,
      "defaultValue": "",
      "label": null,
      "name": "loadId",
      "options": {
       "widgetDisplayType": "Text",
       "validationRegex": null
      },
      "parameterDataType": "String"
     },
     "widgetInfo": {
      "widgetType": "text",
      "defaultValue": "",
      "label": null,
      "name": "loadId",
      "options": {
       "widgetType": "text",
       "autoCreated": null,
       "validationRegex": null
      }
     }
    },
    "logMessage": {
     "currentValue": "test",
     "nuid": "7449a6ec-1e99-48fa-9719-5e7df61a4f03",
     "typedWidgetInfo": {
      "autoCreated": false,
      "defaultValue": "",
      "label": null,
      "name": "logMessage",
      "options": {
       "widgetDisplayType": "Text",
       "validationRegex": null
      },
      "parameterDataType": "String"
     },
     "widgetInfo": {
      "widgetType": "text",
      "defaultValue": "",
      "label": null,
      "name": "logMessage",
      "options": {
       "widgetType": "text",
       "autoCreated": null,
       "validationRegex": null
      }
     }
    },
    "logTimeStamp": {
     "currentValue": "test",
     "nuid": "02b18d41-81ed-4fd4-8b3b-b574b6a97893",
     "typedWidgetInfo": {
      "autoCreated": false,
      "defaultValue": "",
      "label": null,
      "name": "logTimeStamp",
      "options": {
       "widgetDisplayType": "Text",
       "validationRegex": null
      },
      "parameterDataType": "String"
     },
     "widgetInfo": {
      "widgetType": "text",
      "defaultValue": "",
      "label": null,
      "name": "logTimeStamp",
      "options": {
       "widgetType": "text",
       "autoCreated": null,
       "validationRegex": null
      }
     }
    },
    "pipeLineName": {
     "currentValue": "test",
     "nuid": "0099c098-25dd-4a7f-bdd3-e2452870167c",
     "typedWidgetInfo": {
      "autoCreated": false,
      "defaultValue": "",
      "label": null,
      "name": "pipeLineName",
      "options": {
       "widgetDisplayType": "Text",
       "validationRegex": null
      },
      "parameterDataType": "String"
     },
     "widgetInfo": {
      "widgetType": "text",
      "defaultValue": "",
      "label": null,
      "name": "pipeLineName",
      "options": {
       "widgetType": "text",
       "autoCreated": null,
       "validationRegex": null
      }
     }
    },
    "status": {
     "currentValue": "test",
     "nuid": "26cb91a9-8fc4-4ff5-b84d-4e82f884515f",
     "typedWidgetInfo": {
      "autoCreated": false,
      "defaultValue": "",
      "label": null,
      "name": "status",
      "options": {
       "widgetDisplayType": "Text",
       "validationRegex": null
      },
      "parameterDataType": "String"
     },
     "widgetInfo": {
      "widgetType": "text",
      "defaultValue": "",
      "label": null,
      "name": "status",
      "options": {
       "widgetType": "text",
       "autoCreated": null,
       "validationRegex": null
      }
     }
    },
    "triggerType": {
     "currentValue": "test",
     "nuid": "d3aca1ab-4498-45fd-8ce1-48853fdaac84",
     "typedWidgetInfo": {
      "autoCreated": false,
      "defaultValue": "",
      "label": null,
      "name": "triggerType",
      "options": {
       "widgetDisplayType": "Text",
       "validationRegex": null
      },
      "parameterDataType": "String"
     },
     "widgetInfo": {
      "widgetType": "text",
      "defaultValue": "",
      "label": null,
      "name": "triggerType",
      "options": {
       "widgetType": "text",
       "autoCreated": null,
       "validationRegex": null
      }
     }
    }
   }
  },
  "language_info": {
   "name": "python"
  }
 },
 "nbformat": 4,
 "nbformat_minor": 0
}