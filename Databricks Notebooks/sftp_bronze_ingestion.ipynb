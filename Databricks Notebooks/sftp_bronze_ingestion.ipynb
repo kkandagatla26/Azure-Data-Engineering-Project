{
 "cells": [
  {
   "cell_type": "code",
   "execution_count": 0,
   "metadata": {
    "application/vnd.databricks.v1+cell": {
     "cellMetadata": {},
     "inputWidgets": {},
     "nuid": "c76560ac-1eeb-441a-8df2-995809ace604",
     "showTitle": false,
     "tableResultSettingsMap": {},
     "title": ""
    }
   },
   "outputs": [],
   "source": [
    "dbutils.widgets.text(\"bronze_table\", \"\")\n",
    "bronze_table = dbutils.widgets.get(\"bronze_table\")\n",
    "\n",
    "dbutils.widgets.text(\"bronze_schema\", \"\")\n",
    "bronze_schema = dbutils.widgets.get(\"bronze_schema\")\n",
    "\n",
    "dbutils.widgets.text(\"source_file_name\", \"\")\n",
    "source_file_name = dbutils.widgets.get(\"source_file_name\")\n",
    "\n",
    "dbutils.widgets.text(\"storage_account_name\", \"\")\n",
    "storage_account_name = dbutils.widgets.get(\"storage_account_name\")\n",
    "\n",
    "dbutils.widgets.text(\"LoadID\", \"\")\n",
    "LoadID = dbutils.widgets.get(\"LoadID\")\n",
    "\n",
    "dbutils.widgets.text(\"env\", \"\")\n",
    "env = dbutils.widgets.get(\"env\")"
   ]
  },
  {
   "cell_type": "code",
   "execution_count": 0,
   "metadata": {
    "application/vnd.databricks.v1+cell": {
     "cellMetadata": {},
     "inputWidgets": {},
     "nuid": "df951055-e0bc-4b09-9728-4f8ad9eb1b76",
     "showTitle": false,
     "tableResultSettingsMap": {},
     "title": ""
    }
   },
   "outputs": [],
   "source": [
    "#storing source_file data in a dataframe\n",
    "file_path = f\"abfss://landing@{storage_account_name}.dfs.core.windows.net/target_sftp_files/{source_file_name}\"\n",
    "df = spark.read.csv(file_path, header='true')\n",
    "source_file_records_count = df.count()\n",
    "\n",
    "#creatin temporary view from the df dataframe\n",
    "df.createOrReplaceTempView('temp_view')\n"
   ]
  },
  {
   "cell_type": "code",
   "execution_count": 0,
   "metadata": {
    "application/vnd.databricks.v1+cell": {
     "cellMetadata": {},
     "inputWidgets": {},
     "nuid": "d4b4d078-deaa-4349-a03f-41a6a46eb300",
     "showTitle": false,
     "tableResultSettingsMap": {},
     "title": ""
    }
   },
   "outputs": [],
   "source": [
    "#insert records into bronze layer table\n",
    "spark.sql(f\"\"\"\n",
    "          \n",
    "     insert into {bronze_schema}.{bronze_table} select *, from_utc_timestamp(now(), 'CST'),'{LoadID}' from temp_view;   \n",
    "\"\"\")"
   ]
  },
  {
   "cell_type": "code",
   "execution_count": 0,
   "metadata": {
    "application/vnd.databricks.v1+cell": {
     "cellMetadata": {},
     "inputWidgets": {},
     "nuid": "def45c44-5d87-4d56-807a-48ec9d502b3e",
     "showTitle": false,
     "tableResultSettingsMap": {},
     "title": ""
    }
   },
   "outputs": [],
   "source": [
    "bronze_tbl_count = spark.sql(f\"select * from {bronze_schema}.{bronze_table} where load_id = '{LoadID}'\").count()"
   ]
  },
  {
   "cell_type": "code",
   "execution_count": 0,
   "metadata": {
    "application/vnd.databricks.v1+cell": {
     "cellMetadata": {},
     "inputWidgets": {},
     "nuid": "cb7c770d-8bd6-4c28-a989-33c9e8b1fac1",
     "showTitle": false,
     "tableResultSettingsMap": {},
     "title": ""
    }
   },
   "outputs": [],
   "source": [
    "#return records to azure data factory\n",
    "dbutils.notebook.exit([source_file_records_count, bronze_tbl_count])"
   ]
  }
 ],
 "metadata": {
  "application/vnd.databricks.v1+notebook": {
   "computePreferences": null,
   "dashboards": [],
   "environmentMetadata": {
    "base_environment": "",
    "client": "1"
   },
   "language": "python",
   "notebookMetadata": {
    "pythonIndentUnit": 4
   },
   "notebookName": "sftp_bronze_ingestion",
   "widgets": {}
  },
  "language_info": {
   "name": "python"
  }
 },
 "nbformat": 4,
 "nbformat_minor": 0
}