{
 "cells": [
  {
   "cell_type": "code",
   "execution_count": 0,
   "metadata": {
    "application/vnd.databricks.v1+cell": {
     "cellMetadata": {},
     "inputWidgets": {},
     "nuid": "881b7251-fedc-4bea-bb54-4742e91acb19",
     "showTitle": false,
     "tableResultSettingsMap": {},
     "title": ""
    }
   },
   "outputs": [],
   "source": [
    "dbutils.widgets.text(\"LoadID\", \"\")\n",
    "LoadID = dbutils.widgets.get(\"LoadID\")\n",
    "\n",
    "dbutils.widgets.text(\"bronze_schema\", \"\")\n",
    "bronze_schema = dbutils.widgets.get(\"bronze_schema\")\n",
    "\n",
    "dbutils.widgets.text(\"bronze_table\", \"\")\n",
    "bronze_table = dbutils.widgets.get(\"bronze_table\")\n",
    "\n",
    "dbutils.widgets.text(\"silver_schema\", \"\")\n",
    "source_file_name = dbutils.widgets.get(\"silver_schema\")\n",
    "\n",
    "dbutils.widgets.text(\"silver_table\", \"\")\n",
    "source_file_name = dbutils.widgets.get(\"silver_table\")"
   ]
  },
  {
   "cell_type": "code",
   "execution_count": 0,
   "metadata": {
    "application/vnd.databricks.v1+cell": {
     "cellMetadata": {},
     "inputWidgets": {},
     "nuid": "9864a812-ae1e-4c0b-8811-d6e04f6c8383",
     "showTitle": false,
     "tableResultSettingsMap": {},
     "title": ""
    }
   },
   "outputs": [],
   "source": [
    "df = spark.sql(f\"SELECT * FROM {bronze_schema}.{bronze_table} where load_id = '{LoadID}'\")\n",
    "pre_count = df.count()\n",
    "\n",
    "#removing duplicate values from the dataframe\n",
    "df = df.dropDuplicates()\n",
    "\n",
    "duplicate_records_count = pre_count - df.count()"
   ]
  },
  {
   "cell_type": "code",
   "execution_count": 0,
   "metadata": {
    "application/vnd.databricks.v1+cell": {
     "cellMetadata": {},
     "inputWidgets": {},
     "nuid": "0ea31e68-6169-4eb8-ba68-c466503a7864",
     "showTitle": false,
     "tableResultSettingsMap": {},
     "title": ""
    }
   },
   "outputs": [],
   "source": [
    "# Update Column datatypes\n",
    "\n",
    "from pyspark.sql.functions import col\n",
    "df_schema = spark.sql(f\"DESCRIBE table {silver_schema}.{silver_table}\")\n",
    "\n",
    "for row in df_schema.collect():\n",
    "    col_name = row['col_name']\n",
    "    data_type = row['data_type']\n",
    "    df = df.withColumn(col_name, col(col_name).cast(data_type))"
   ]
  },
  {
   "cell_type": "code",
   "execution_count": 0,
   "metadata": {
    "application/vnd.databricks.v1+cell": {
     "cellMetadata": {},
     "inputWidgets": {},
     "nuid": "3e99c113-1402-4fd4-b0db-61a8b46d2a52",
     "showTitle": false,
     "tableResultSettingsMap": {},
     "title": ""
    }
   },
   "outputs": [],
   "source": [
    "#insert bronze layer table records into silver layer table records\n",
    "df.write.mode(\"overwrite\").saveAsTable(f\"{silver_schema}.{silver_table}\")\n",
    "\n",
    "silver_table_record_count = df.count()"
   ]
  },
  {
   "cell_type": "code",
   "execution_count": 0,
   "metadata": {
    "application/vnd.databricks.v1+cell": {
     "cellMetadata": {},
     "inputWidgets": {},
     "nuid": "251d60e1-3188-4c35-aaf6-2d4188b5d738",
     "showTitle": false,
     "tableResultSettingsMap": {},
     "title": ""
    }
   },
   "outputs": [],
   "source": [
    "#return records to azure data factory\n",
    "dbutils.notebook.exit([duplicate_records_count,silver_table_record_count])"
   ]
  }
 ],
 "metadata": {
  "application/vnd.databricks.v1+notebook": {
   "computePreferences": null,
   "dashboards": [],
   "environmentMetadata": {
    "base_environment": "",
    "client": "2"
   },
   "language": "python",
   "notebookMetadata": {
    "pythonIndentUnit": 4
   },
   "notebookName": "bronze to silver ingestion",
   "widgets": {}
  },
  "language_info": {
   "name": "python"
  }
 },
 "nbformat": 4,
 "nbformat_minor": 0
}