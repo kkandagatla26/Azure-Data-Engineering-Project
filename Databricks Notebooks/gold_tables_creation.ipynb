{
 "cells": [
  {
   "cell_type": "code",
   "execution_count": 0,
   "metadata": {
    "application/vnd.databricks.v1+cell": {
     "cellMetadata": {
      "byteLimit": 2048000,
      "rowLimit": 10000
     },
     "inputWidgets": {},
     "nuid": "c5baf91f-fcb8-40b7-b3b4-3a472dc83bb9",
     "showTitle": false,
     "tableResultSettingsMap": {},
     "title": ""
    }
   },
   "outputs": [],
   "source": [
    "dbutils.widgets.text(\"storage_account_name\", \"\")\n",
    "storage_account_name = dbutils.widgets.get(\"storage_account_name\")\n",
    "\n",
    "dbutils.widgets.text(\"env\", \"\")\n",
    "env = dbutils.widgets.get(\"env\")"
   ]
  },
  {
   "cell_type": "code",
   "execution_count": 0,
   "metadata": {
    "application/vnd.databricks.v1+cell": {
     "cellMetadata": {
      "byteLimit": 2048000,
      "rowLimit": 10000
     },
     "inputWidgets": {},
     "nuid": "4f930d72-87fc-492c-9b7b-500788b62e37",
     "showTitle": false,
     "tableResultSettingsMap": {},
     "title": ""
    }
   },
   "outputs": [
    {
     "output_type": "execute_result",
     "data": {
      "text/plain": [
       "DataFrame[]"
      ]
     },
     "execution_count": 5,
     "metadata": {},
     "output_type": "execute_result"
    }
   ],
   "source": [
    "spark.sql(f\"\"\"\n",
    "          \n",
    "CREATE DATABASE IF NOT EXISTS hive_metastore.{env}_gold         \n",
    "\"\"\")"
   ]
  },
  {
   "cell_type": "code",
   "execution_count": 0,
   "metadata": {
    "application/vnd.databricks.v1+cell": {
     "cellMetadata": {
      "byteLimit": 2048000,
      "rowLimit": 10000
     },
     "inputWidgets": {},
     "nuid": "3ed30928-0240-4c4e-b507-f4dc23f0d75d",
     "showTitle": false,
     "tableResultSettingsMap": {},
     "title": ""
    }
   },
   "outputs": [
    {
     "output_type": "execute_result",
     "data": {
      "text/plain": [
       "DataFrame[]"
      ]
     },
     "execution_count": 6,
     "metadata": {},
     "output_type": "execute_result"
    }
   ],
   "source": [
    "spark.sql(f\"\"\"\n",
    "\n",
    "create or replace table {env}_gold.fact_transport (\n",
    "    \n",
    "    dist_code string,\n",
    "    month date,\n",
    "    fuel_type_petrol int,\n",
    "    fuel_type_diesel int,\n",
    "    fuel_type_electric int,\n",
    "    fuel_type_others int,\n",
    "    vehicleClass_MotorCycle int,\n",
    "    vehicleClass_MotorCar int,\n",
    "    vehicleClass_AutoRickshaw int,\n",
    "    vehicleClass_Agriculture int,\n",
    "    vehicleClass_Others int,\n",
    "    seatCapacity_1_to_3 int,\n",
    "    seatCapacity_4_to_6 int,\n",
    "    seatCapacity_above_6 int,\n",
    "    Brand_new_vehicles int,\n",
    "    `Pre-owned_vehicles` int,\n",
    "    `category_Non-transport` int,\n",
    "    category_Transport int,\n",
    "    seq_no int,\n",
    "    last_insert_dttm timestamp,\n",
    "    load_id string\n",
    ")\n",
    "location 'abfss://gold@{storage_account_name}.dfs.core.windows.net/fact_transport'\n",
    "\"\"\")"
   ]
  },
  {
   "cell_type": "code",
   "execution_count": 0,
   "metadata": {
    "application/vnd.databricks.v1+cell": {
     "cellMetadata": {
      "byteLimit": 2048000,
      "rowLimit": 10000
     },
     "inputWidgets": {},
     "nuid": "4d03ef1c-e6bc-48fa-a467-51a0a178d379",
     "showTitle": false,
     "tableResultSettingsMap": {},
     "title": ""
    }
   },
   "outputs": [
    {
     "output_type": "execute_result",
     "data": {
      "text/plain": [
       "DataFrame[]"
      ]
     },
     "execution_count": 7,
     "metadata": {},
     "output_type": "execute_result"
    }
   ],
   "source": [
    "spark.sql(f\"\"\"\n",
    "          \n",
    "create or replace table {env}_gold.dim_date (\n",
    "\n",
    "    month date,\n",
    "    Mmm string,\n",
    "    quarter string,\n",
    "    fiscal_year int,\n",
    "    last_insert_dttm timestamp,\n",
    "    load_id string\n",
    ")\n",
    "location 'abfss://gold@{storage_account_name}.dfs.core.windows.net/dim_date'\n",
    "\"\"\")"
   ]
  },
  {
   "cell_type": "code",
   "execution_count": 0,
   "metadata": {
    "application/vnd.databricks.v1+cell": {
     "cellMetadata": {
      "byteLimit": 2048000,
      "rowLimit": 10000
     },
     "inputWidgets": {},
     "nuid": "fb0d62c9-619d-4cda-828a-97d99331f1d2",
     "showTitle": false,
     "tableResultSettingsMap": {},
     "title": ""
    }
   },
   "outputs": [
    {
     "output_type": "execute_result",
     "data": {
      "text/plain": [
       "DataFrame[]"
      ]
     },
     "execution_count": 2,
     "metadata": {},
     "output_type": "execute_result"
    }
   ],
   "source": [
    "spark.sql(f\"\"\"\n",
    "          \n",
    "create or replace table {env}_gold.dim_districts (\n",
    "\n",
    "    dist_code string,\n",
    "    district string,\n",
    "    last_insert_dttm timestamp,\n",
    "    load_id string\n",
    ")\n",
    "location 'abfss://gold@{storage_account_name}.dfs.core.windows.net/dim_districts'\n",
    "\"\"\")"
   ]
  },
  {
   "cell_type": "code",
   "execution_count": 0,
   "metadata": {
    "application/vnd.databricks.v1+cell": {
     "cellMetadata": {
      "byteLimit": 2048000,
      "rowLimit": 10000
     },
     "inputWidgets": {},
     "nuid": "fdb21b09-2e07-4286-a59e-9f2363c968d0",
     "showTitle": false,
     "tableResultSettingsMap": {},
     "title": ""
    }
   },
   "outputs": [
    {
     "output_type": "execute_result",
     "data": {
      "text/plain": [
       "DataFrame[]"
      ]
     },
     "execution_count": 8,
     "metadata": {},
     "output_type": "execute_result"
    }
   ],
   "source": [
    "spark.sql(f\"\"\"\n",
    "          \n",
    "create or replace table {env}_gold.fact_stamps (\n",
    "\n",
    "    dist_code string,\n",
    "    month date,\n",
    "    documents_registered_cnt int,\n",
    "    documents_registered_rev double,\n",
    "    estamps_challans_cnt int,\n",
    "    estamps_challans_rev int,\n",
    "    last_insert_dttm timestamp,\n",
    "    load_id string\n",
    ")\n",
    "location 'abfss://gold@{storage_account_name}.dfs.core.windows.net/fact_stamps'\n",
    "\"\"\")"
   ]
  },
  {
   "cell_type": "code",
   "execution_count": 0,
   "metadata": {
    "application/vnd.databricks.v1+cell": {
     "cellMetadata": {
      "byteLimit": 2048000,
      "rowLimit": 10000
     },
     "inputWidgets": {},
     "nuid": "760d4f21-a26e-4590-91a1-063253c5f2eb",
     "showTitle": false,
     "tableResultSettingsMap": {},
     "title": ""
    }
   },
   "outputs": [
    {
     "output_type": "execute_result",
     "data": {
      "text/plain": [
       "DataFrame[]"
      ]
     },
     "execution_count": 11,
     "metadata": {},
     "output_type": "execute_result"
    }
   ],
   "source": [
    "spark.sql(f\"\"\"\n",
    "          \n",
    "create or replace table {env}_gold.fact_ts_ipass (\n",
    "\n",
    "    dist_code string,\n",
    "    month date,\n",
    "    sector string,\n",
    "    investment_in_cr double,\n",
    "    number_of_employees int,\n",
    "    last_insert_dttm timestamp,\n",
    "    load_id string\n",
    ")\n",
    "location 'abfss://gold@{storage_account_name}.dfs.core.windows.net/fact_ts_ipass'\n",
    "\"\"\")"
   ]
  }
 ],
 "metadata": {
  "application/vnd.databricks.v1+notebook": {
   "computePreferences": null,
   "dashboards": [],
   "environmentMetadata": {
    "base_environment": "",
    "client": "1"
   },
   "language": "python",
   "notebookMetadata": {
    "pythonIndentUnit": 4
   },
   "notebookName": "gold_tables_creation",
   "widgets": {
    "env": {
     "currentValue": "dev",
     "nuid": "d42db264-ec7b-4e53-ab18-01d88ad6639e",
     "typedWidgetInfo": {
      "autoCreated": false,
      "defaultValue": "",
      "label": null,
      "name": "env",
      "options": {
       "widgetDisplayType": "Text",
       "validationRegex": null
      },
      "parameterDataType": "String"
     },
     "widgetInfo": {
      "widgetType": "text",
      "defaultValue": "",
      "label": null,
      "name": "env",
      "options": {
       "widgetType": "text",
       "autoCreated": null,
       "validationRegex": null
      }
     }
    },
    "storage_account_name": {
     "currentValue": "holadlsgen2storagedev",
     "nuid": "03e5c005-439b-4657-8bd6-c7b3dae113cf",
     "typedWidgetInfo": {
      "autoCreated": false,
      "defaultValue": "",
      "label": null,
      "name": "storage_account_name",
      "options": {
       "widgetDisplayType": "Text",
       "validationRegex": null
      },
      "parameterDataType": "String"
     },
     "widgetInfo": {
      "widgetType": "text",
      "defaultValue": "",
      "label": null,
      "name": "storage_account_name",
      "options": {
       "widgetType": "text",
       "autoCreated": null,
       "validationRegex": null
      }
     }
    }
   }
  },
  "language_info": {
   "name": "python"
  }
 },
 "nbformat": 4,
 "nbformat_minor": 0
}