{
 "cells": [
  {
   "cell_type": "code",
   "execution_count": 0,
   "metadata": {
    "application/vnd.databricks.v1+cell": {
     "cellMetadata": {},
     "inputWidgets": {},
     "nuid": "6658d591-f8f0-476d-bf80-8a74cbcae7fe",
     "showTitle": false,
     "tableResultSettingsMap": {},
     "title": ""
    }
   },
   "outputs": [],
   "source": [
    "dbutils.widgets.text(\"LoadID\", \"\")\n",
    "LoadID = dbutils.widgets.get(\"LoadID\")\n",
    "\n",
    "dbutils.widgets.text(\"gold_table\", \"\")\n",
    "gold_table = dbutils.widgets.get(\"gold_table\")\n",
    "\n",
    "dbutils.widgets.text(\"gold_schema\", \"\")\n",
    "gold_schema = dbutils.widgets.get(\"gold_schema\")\n",
    "\n",
    "dbutils.widgets.text(\"silver_schema\", \"\")\n",
    "silver_schema = dbutils.widgets.get(\"silver_schema\")\n",
    "\n",
    "dbutils.widgets.text(\"silver_table\", \"\")\n",
    "silver_table = dbutils.widgets.get(\"silver_table\")\n",
    "\n",
    "dbutils.widgets.text(\"source\", \"\")\n",
    "source = dbutils.widgets.get(\"source\")"
   ]
  },
  {
   "cell_type": "code",
   "execution_count": 0,
   "metadata": {
    "application/vnd.databricks.v1+cell": {
     "cellMetadata": {},
     "inputWidgets": {},
     "nuid": "9d00a544-36bf-46c8-9fac-df8567c06412",
     "showTitle": false,
     "tableResultSettingsMap": {},
     "title": ""
    }
   },
   "outputs": [],
   "source": [
    "if(source == \"sftp_host\"):\n",
    "    df = spark.sql(f\"\"\"\n",
    "        \n",
    "        with\n",
    "        temp_petrol as (select * from {silver_schema}.fact_transport_petrol where LoadID = '{LoadID}'),\n",
    "        temp_diesel as (select * from {silver_schema}.fact_transport_diesel where LoadID = '{LoadID}'),\n",
    "        temp_electric as (select * from {silver_schema}.fact_transport_electric where LoadID = '{LoadID}'),\n",
    "        temp_others as (select * from {silver_schema}.fact_transport_others where LoadID = '{LoadID}')\n",
    "\n",
    "        select \n",
    "        temp_petrol.dist_code,\n",
    "        temp_petrol.month,\n",
    "        temp_petrol.fuel_type_petrol,\n",
    "        temp_diesel.fuel_type_diesel,\n",
    "        temp_electric.fuel_type_electric,\n",
    "        temp_others.fuel_type_others,\n",
    "        temp_petrol.vehicleClass_Motorcycle,\n",
    "        temp_petrol.vehicleClass_MotorCar,\n",
    "        temp_petrol.vehicleClass_AutoRickshaw,\n",
    "        temp_petrol.vehicleClass_Agriculture,\n",
    "        temp_petrol.vehicleClass_others,\n",
    "        temp_petrol.seatCapacity_1_to_3,\n",
    "        temp_petrol.seatCapacity_4_to_6,\n",
    "        temp_petrol.seatCapacity_above_6,\n",
    "        temp_petrol.Brand_new_vehicles,\n",
    "        temp_petrol.`Pre-owned_vehicles`,\n",
    "        temp_petrol.`category_Non-transport`,\n",
    "        temp_petrol.category_Transport,\n",
    "        temp_petrol.seq_no,\n",
    "        from_utc_timestamp(now(), 'CST') as last_insert_dttm,\n",
    "        temp_petrol.load_id\n",
    "        from temp_petrol join temp_diesel on temp_petrol.seq_no = temp_diesel.seq_no \n",
    "        join temp_electric on temp_petrol.seq_no = temp_electric.seq_no \n",
    "        join temp_others on temp_petrol.seq_no = temp_others.seq_no               \n",
    "\"\"\")"
   ]
  },
  {
   "cell_type": "code",
   "execution_count": 0,
   "metadata": {
    "application/vnd.databricks.v1+cell": {
     "cellMetadata": {},
     "inputWidgets": {},
     "nuid": "5aa4985f-68a5-4a73-a808-810143dc2e56",
     "showTitle": false,
     "tableResultSettingsMap": {},
     "title": ""
    }
   },
   "outputs": [],
   "source": [
    "if(source == \"mysql_host\"):\n",
    "    df = spark.sql(f\"select * from {silver_schema}.{silver_table}\")"
   ]
  },
  {
   "cell_type": "code",
   "execution_count": 0,
   "metadata": {
    "application/vnd.databricks.v1+cell": {
     "cellMetadata": {},
     "inputWidgets": {},
     "nuid": "48c07e47-b53d-4850-9fe0-7b4733304d10",
     "showTitle": false,
     "tableResultSettingsMap": {},
     "title": ""
    }
   },
   "outputs": [],
   "source": [
    "#insert silver layer table records into gold layer table records\n",
    "df.write.mode(\"overwrite\").saveAsTable(f\"{gold_schema}.{gold_table}\")\n",
    "\n",
    "gold_table_record_count = df.count()"
   ]
  },
  {
   "cell_type": "code",
   "execution_count": 0,
   "metadata": {
    "application/vnd.databricks.v1+cell": {
     "cellMetadata": {},
     "inputWidgets": {},
     "nuid": "bdac155c-6330-46a6-90c0-f4165c11135b",
     "showTitle": false,
     "tableResultSettingsMap": {},
     "title": ""
    }
   },
   "outputs": [],
   "source": [
    "#return records to azure data factory\n",
    "dbutils.notebook.exit(gold_table_record_count)"
   ]
  }
 ],
 "metadata": {
  "application/vnd.databricks.v1+notebook": {
   "computePreferences": null,
   "dashboards": [],
   "environmentMetadata": {
    "base_environment": "",
    "client": "2"
   },
   "language": "python",
   "notebookMetadata": {
    "pythonIndentUnit": 4
   },
   "notebookName": "silver to gold ingestion",
   "widgets": {}
  },
  "language_info": {
   "name": "python"
  }
 },
 "nbformat": 4,
 "nbformat_minor": 0
}