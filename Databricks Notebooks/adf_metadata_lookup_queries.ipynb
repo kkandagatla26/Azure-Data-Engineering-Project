{
 "cells": [
  {
   "cell_type": "code",
   "execution_count": 0,
   "metadata": {
    "application/vnd.databricks.v1+cell": {
     "cellMetadata": {
      "byteLimit": 2048000,
      "implicitDf": true,
      "rowLimit": 10000
     },
     "inputWidgets": {},
     "nuid": "9dbfc05b-dbcd-43db-bbab-b3777a500fc8",
     "showTitle": false,
     "tableResultSettingsMap": {},
     "title": ""
    }
   },
   "outputs": [
    {
     "output_type": "display_data",
     "data": {
      "text/html": [
       "<style scoped>\n",
       "  .table-result-container {\n",
       "    max-height: 300px;\n",
       "    overflow: auto;\n",
       "  }\n",
       "  table, th, td {\n",
       "    border: 1px solid black;\n",
       "    border-collapse: collapse;\n",
       "  }\n",
       "  th, td {\n",
       "    padding: 5px;\n",
       "  }\n",
       "  th {\n",
       "    text-align: left;\n",
       "  }\n",
       "</style><div class='table-result-container'><table class='table-result'><thead style='background-color: white'><tr><th>source_ref_id</th><th>server_name</th><th>port</th><th>database_name</th><th>user_name</th><th>secret_name</th><th>storage_account</th><th>adls_url</th><th>container_name</th><th>logic_app_url</th><th>email_id</th><th>source_file_or_table_name</th><th>adls_file_path</th><th>bronze_schema</th><th>bronze_tbl</th><th>silver_schema</th><th>silver_tbl</th><th>gold_schema</th><th>gold_tbl</th></tr></thead><tbody><tr><td>sftp_host</td><td>null</td><td>22</td><td>null</td><td>kavithadp@gmail.com</td><td>sftp-password</td><td>holadlsgen2storagedev</td><td>https://holadlsgen2storagedev.z19.web.core.windows.net/</td><td>landing</td><td>NA</td><td>kavithadp@gmail.com</td><td>fmcg_fact_transport_electric.csv</td><td>target_sftp_files</td><td>dev_bronze</td><td>fact_transport_electric</td><td>dev_silver</td><td>fact_transport_electric</td><td>dev_gold</td><td>fact_transport</td></tr><tr><td>sftp_host</td><td>null</td><td>22</td><td>null</td><td>kavithadp@gmail.com</td><td>sftp-password</td><td>holadlsgen2storagedev</td><td>https://holadlsgen2storagedev.z19.web.core.windows.net/</td><td>landing</td><td>NA</td><td>kavithadp@gmail.com</td><td>fmcg_fact_transport_others.csv</td><td>target_sftp_files</td><td>dev_bronze</td><td>fact_transport_others</td><td>dev_silver</td><td>fact_transport_others</td><td>dev_gold</td><td>fact_transport</td></tr><tr><td>sftp_host</td><td>null</td><td>22</td><td>null</td><td>kavithadp@gmail.com</td><td>sftp-password</td><td>holadlsgen2storagedev</td><td>https://holadlsgen2storagedev.z19.web.core.windows.net/</td><td>landing</td><td>NA</td><td>kavithadp@gmail.com</td><td>fmcg_fact_transport_petrol.csv</td><td>target_sftp_files</td><td>dev_bronze</td><td>fact_transport_petrol</td><td>dev_silver</td><td>fact_transport_petrol</td><td>dev_gold</td><td>fact_transport</td></tr><tr><td>sftp_host</td><td>null</td><td>22</td><td>null</td><td>kavithadp@gmail.com</td><td>sftp-password</td><td>holadlsgen2storagedev</td><td>https://holadlsgen2storagedev.z19.web.core.windows.net/</td><td>landing</td><td>NA</td><td>kavithadp@gmail.com</td><td>fmcg_fact_transport_diesel.csv</td><td>target_sftp_files</td><td>dev_bronze</td><td>fact_transport_diesel</td><td>dev_silver</td><td>fact_transport_diesel</td><td>dev_gold</td><td>fact_transport</td></tr></tbody></table></div>"
      ]
     },
     "metadata": {
      "application/vnd.databricks.v1+output": {
       "addedWidgets": {},
       "aggData": [],
       "aggError": "",
       "aggOverflow": false,
       "aggSchema": [],
       "aggSeriesLimitReached": false,
       "aggType": "",
       "arguments": {},
       "columnCustomDisplayInfos": {},
       "data": [
        [
         "sftp_host",
         null,
         22,
         null,
         "kavithadp@gmail.com",
         "sftp-password",
         "holadlsgen2storagedev",
         "https://holadlsgen2storagedev.z19.web.core.windows.net/",
         "landing",
         "NA",
         "kavithadp@gmail.com",
         "fmcg_fact_transport_electric.csv",
         "target_sftp_files",
         "dev_bronze",
         "fact_transport_electric",
         "dev_silver",
         "fact_transport_electric",
         "dev_gold",
         "fact_transport"
        ],
        [
         "sftp_host",
         null,
         22,
         null,
         "kavithadp@gmail.com",
         "sftp-password",
         "holadlsgen2storagedev",
         "https://holadlsgen2storagedev.z19.web.core.windows.net/",
         "landing",
         "NA",
         "kavithadp@gmail.com",
         "fmcg_fact_transport_others.csv",
         "target_sftp_files",
         "dev_bronze",
         "fact_transport_others",
         "dev_silver",
         "fact_transport_others",
         "dev_gold",
         "fact_transport"
        ],
        [
         "sftp_host",
         null,
         22,
         null,
         "kavithadp@gmail.com",
         "sftp-password",
         "holadlsgen2storagedev",
         "https://holadlsgen2storagedev.z19.web.core.windows.net/",
         "landing",
         "NA",
         "kavithadp@gmail.com",
         "fmcg_fact_transport_petrol.csv",
         "target_sftp_files",
         "dev_bronze",
         "fact_transport_petrol",
         "dev_silver",
         "fact_transport_petrol",
         "dev_gold",
         "fact_transport"
        ],
        [
         "sftp_host",
         null,
         22,
         null,
         "kavithadp@gmail.com",
         "sftp-password",
         "holadlsgen2storagedev",
         "https://holadlsgen2storagedev.z19.web.core.windows.net/",
         "landing",
         "NA",
         "kavithadp@gmail.com",
         "fmcg_fact_transport_diesel.csv",
         "target_sftp_files",
         "dev_bronze",
         "fact_transport_diesel",
         "dev_silver",
         "fact_transport_diesel",
         "dev_gold",
         "fact_transport"
        ]
       ],
       "datasetInfos": [],
       "dbfsResultPath": null,
       "isJsonSchema": true,
       "metadata": {
        "dataframeName": "_sqldf",
        "executionCount": 1
       },
       "overflow": false,
       "plotOptions": {
        "customPlotOptions": {},
        "displayType": "table",
        "pivotAggregation": null,
        "pivotColumns": null,
        "xColumns": null,
        "yColumns": null
       },
       "removedWidgets": [],
       "schema": [
        {
         "metadata": "{}",
         "name": "source_ref_id",
         "type": "\"string\""
        },
        {
         "metadata": "{}",
         "name": "server_name",
         "type": "\"string\""
        },
        {
         "metadata": "{}",
         "name": "port",
         "type": "\"integer\""
        },
        {
         "metadata": "{}",
         "name": "database_name",
         "type": "\"string\""
        },
        {
         "metadata": "{}",
         "name": "user_name",
         "type": "\"string\""
        },
        {
         "metadata": "{}",
         "name": "secret_name",
         "type": "\"string\""
        },
        {
         "metadata": "{}",
         "name": "storage_account",
         "type": "\"string\""
        },
        {
         "metadata": "{}",
         "name": "adls_url",
         "type": "\"string\""
        },
        {
         "metadata": "{}",
         "name": "container_name",
         "type": "\"string\""
        },
        {
         "metadata": "{}",
         "name": "logic_app_url",
         "type": "\"string\""
        },
        {
         "metadata": "{}",
         "name": "email_id",
         "type": "\"string\""
        },
        {
         "metadata": "{}",
         "name": "source_file_or_table_name",
         "type": "\"string\""
        },
        {
         "metadata": "{}",
         "name": "adls_file_path",
         "type": "\"string\""
        },
        {
         "metadata": "{}",
         "name": "bronze_schema",
         "type": "\"string\""
        },
        {
         "metadata": "{}",
         "name": "bronze_tbl",
         "type": "\"string\""
        },
        {
         "metadata": "{}",
         "name": "silver_schema",
         "type": "\"string\""
        },
        {
         "metadata": "{}",
         "name": "silver_tbl",
         "type": "\"string\""
        },
        {
         "metadata": "{}",
         "name": "gold_schema",
         "type": "\"string\""
        },
        {
         "metadata": "{}",
         "name": "gold_tbl",
         "type": "\"string\""
        }
       ],
       "type": "table"
      }
     },
     "output_type": "display_data"
    }
   ],
   "source": [
    "%sql\n",
    "-- mysql query\n",
    " select distinct control.source_ref_id, control.server_name, control.port, control.database_name, control.user_name, control.secret_name, control.storage_account, control.adls_url, control.container_name, control.logic_app_url, control.email_id, param.source_file_or_table_name, param.adls_file_path, param.bronze_schema, param.bronze_tbl, param.silver_schema, param.silver_tbl, param.gold_schema, param.gold_tbl from metadata_schema.tbl_source_control as control join metadata_schema.tbl_parameters as param on control.job_id = param.job_id where param.job_id = 101"
   ]
  },
  {
   "cell_type": "code",
   "execution_count": 0,
   "metadata": {
    "application/vnd.databricks.v1+cell": {
     "cellMetadata": {
      "byteLimit": 2048000,
      "rowLimit": 10000
     },
     "inputWidgets": {},
     "nuid": "4da1a53f-c3d5-4843-9eba-4c2c06cbbec4",
     "showTitle": false,
     "tableResultSettingsMap": {},
     "title": ""
    }
   },
   "outputs": [],
   "source": [
    "#mysql lookup adf\n",
    "@concat('select control.source_ref_id, control.server_name, control.port, control.database_name, control.user_name, control.secret_name, control.storage_account, control.adls_url, control.container_name, control.logic_app_url, control.email_id, param.source_file_or_table_name, param.adls_file_path, param.bronze_schema, param.bronze_tbl, param.silver_schema, param.silver_tbl, param.gold_schema, param.gold_tbl from ',pipeline().parameters.metadata_database,'.tbl_source_control as control join ',pipeline().parameters.metadata_database,'.tbl_parameters as param on control.job_id = param.job_id where param.job_id = ',pipeline().parameters.job_id)"
   ]
  },
  {
   "cell_type": "code",
   "execution_count": 0,
   "metadata": {
    "application/vnd.databricks.v1+cell": {
     "cellMetadata": {
      "byteLimit": 2048000,
      "implicitDf": true,
      "rowLimit": 10000
     },
     "inputWidgets": {},
     "nuid": "bffa143f-5e3d-4a43-8379-704be9ad674d",
     "showTitle": false,
     "tableResultSettingsMap": {},
     "title": ""
    }
   },
   "outputs": [
    {
     "output_type": "display_data",
     "data": {
      "text/html": [
       "<style scoped>\n",
       "  .table-result-container {\n",
       "    max-height: 300px;\n",
       "    overflow: auto;\n",
       "  }\n",
       "  table, th, td {\n",
       "    border: 1px solid black;\n",
       "    border-collapse: collapse;\n",
       "  }\n",
       "  th, td {\n",
       "    padding: 5px;\n",
       "  }\n",
       "  th {\n",
       "    text-align: left;\n",
       "  }\n",
       "</style><div class='table-result-container'><table class='table-result'><thead style='background-color: white'><tr><th>source_ref_id</th><th>host_name</th><th>port</th><th>user_name</th><th>secret_name</th><th>storage_account</th><th>adls_url</th><th>container_name</th><th>logic_app_url</th><th>email_id</th><th>source_file_or_table_name</th><th>adls_file_path</th><th>bronze_schema</th><th>bronze_tbl</th><th>silver_schema</th><th>silver_tbl</th><th>gold_schema</th><th>gold_tbl</th></tr></thead><tbody><tr><td>sftp_host</td><td>localhost</td><td>22</td><td>kavithadp@gmail.com</td><td>sftp-password</td><td>holadlsgen2storagedev</td><td>https://holadlsgen2storagedev.z19.web.core.windows.net/</td><td>landing</td><td>NA</td><td>kavithadp@gmail.com</td><td>fmcg_fact_transport_diesel.csv</td><td>target_sftp_files</td><td>dev_bronze</td><td>fact_transport_diesel</td><td>dev_silver</td><td>fact_transport_diesel</td><td>dev_gold</td><td>fact_transport</td></tr><tr><td>sftp_host</td><td>localhost</td><td>22</td><td>kavithadp@gmail.com</td><td>sftp-password</td><td>holadlsgen2storagedev</td><td>https://holadlsgen2storagedev.z19.web.core.windows.net/</td><td>landing</td><td>NA</td><td>kavithadp@gmail.com</td><td>fmcg_fact_transport_electric.csv</td><td>target_sftp_files</td><td>dev_bronze</td><td>fact_transport_electric</td><td>dev_silver</td><td>fact_transport_electric</td><td>dev_gold</td><td>fact_transport</td></tr><tr><td>sftp_host</td><td>localhost</td><td>22</td><td>kavithadp@gmail.com</td><td>sftp-password</td><td>holadlsgen2storagedev</td><td>https://holadlsgen2storagedev.z19.web.core.windows.net/</td><td>landing</td><td>NA</td><td>kavithadp@gmail.com</td><td>fmcg_fact_transport_others.csv</td><td>target_sftp_files</td><td>dev_bronze</td><td>fact_transport_others</td><td>dev_silver</td><td>fact_transport_others</td><td>dev_gold</td><td>fact_transport</td></tr><tr><td>sftp_host</td><td>localhost</td><td>22</td><td>kavithadp@gmail.com</td><td>sftp-password</td><td>holadlsgen2storagedev</td><td>https://holadlsgen2storagedev.z19.web.core.windows.net/</td><td>landing</td><td>NA</td><td>kavithadp@gmail.com</td><td>fmcg_fact_transport_petrol.csv</td><td>target_sftp_files</td><td>dev_bronze</td><td>fact_transport_petrol</td><td>dev_silver</td><td>fact_transport_petrol</td><td>dev_gold</td><td>fact_transport</td></tr></tbody></table></div>"
      ]
     },
     "metadata": {
      "application/vnd.databricks.v1+output": {
       "addedWidgets": {},
       "aggData": [],
       "aggError": "",
       "aggOverflow": false,
       "aggSchema": [],
       "aggSeriesLimitReached": false,
       "aggType": "",
       "arguments": {},
       "columnCustomDisplayInfos": {},
       "data": [
        [
         "sftp_host",
         "localhost",
         22,
         "kavithadp@gmail.com",
         "sftp-password",
         "holadlsgen2storagedev",
         "https://holadlsgen2storagedev.z19.web.core.windows.net/",
         "landing",
         "NA",
         "kavithadp@gmail.com",
         "fmcg_fact_transport_diesel.csv",
         "target_sftp_files",
         "dev_bronze",
         "fact_transport_diesel",
         "dev_silver",
         "fact_transport_diesel",
         "dev_gold",
         "fact_transport"
        ],
        [
         "sftp_host",
         "localhost",
         22,
         "kavithadp@gmail.com",
         "sftp-password",
         "holadlsgen2storagedev",
         "https://holadlsgen2storagedev.z19.web.core.windows.net/",
         "landing",
         "NA",
         "kavithadp@gmail.com",
         "fmcg_fact_transport_electric.csv",
         "target_sftp_files",
         "dev_bronze",
         "fact_transport_electric",
         "dev_silver",
         "fact_transport_electric",
         "dev_gold",
         "fact_transport"
        ],
        [
         "sftp_host",
         "localhost",
         22,
         "kavithadp@gmail.com",
         "sftp-password",
         "holadlsgen2storagedev",
         "https://holadlsgen2storagedev.z19.web.core.windows.net/",
         "landing",
         "NA",
         "kavithadp@gmail.com",
         "fmcg_fact_transport_others.csv",
         "target_sftp_files",
         "dev_bronze",
         "fact_transport_others",
         "dev_silver",
         "fact_transport_others",
         "dev_gold",
         "fact_transport"
        ],
        [
         "sftp_host",
         "localhost",
         22,
         "kavithadp@gmail.com",
         "sftp-password",
         "holadlsgen2storagedev",
         "https://holadlsgen2storagedev.z19.web.core.windows.net/",
         "landing",
         "NA",
         "kavithadp@gmail.com",
         "fmcg_fact_transport_petrol.csv",
         "target_sftp_files",
         "dev_bronze",
         "fact_transport_petrol",
         "dev_silver",
         "fact_transport_petrol",
         "dev_gold",
         "fact_transport"
        ]
       ],
       "datasetInfos": [],
       "dbfsResultPath": null,
       "isJsonSchema": true,
       "metadata": {
        "dataframeName": "_sqldf",
        "executionCount": 1
       },
       "overflow": false,
       "plotOptions": {
        "customPlotOptions": {},
        "displayType": "table",
        "pivotAggregation": null,
        "pivotColumns": null,
        "xColumns": null,
        "yColumns": null
       },
       "removedWidgets": [],
       "schema": [
        {
         "metadata": "{}",
         "name": "source_ref_id",
         "type": "\"string\""
        },
        {
         "metadata": "{}",
         "name": "host_name",
         "type": "\"string\""
        },
        {
         "metadata": "{}",
         "name": "port",
         "type": "\"integer\""
        },
        {
         "metadata": "{}",
         "name": "user_name",
         "type": "\"string\""
        },
        {
         "metadata": "{}",
         "name": "secret_name",
         "type": "\"string\""
        },
        {
         "metadata": "{}",
         "name": "storage_account",
         "type": "\"string\""
        },
        {
         "metadata": "{}",
         "name": "adls_url",
         "type": "\"string\""
        },
        {
         "metadata": "{}",
         "name": "container_name",
         "type": "\"string\""
        },
        {
         "metadata": "{}",
         "name": "logic_app_url",
         "type": "\"string\""
        },
        {
         "metadata": "{}",
         "name": "email_id",
         "type": "\"string\""
        },
        {
         "metadata": "{}",
         "name": "source_file_or_table_name",
         "type": "\"string\""
        },
        {
         "metadata": "{}",
         "name": "adls_file_path",
         "type": "\"string\""
        },
        {
         "metadata": "{}",
         "name": "bronze_schema",
         "type": "\"string\""
        },
        {
         "metadata": "{}",
         "name": "bronze_tbl",
         "type": "\"string\""
        },
        {
         "metadata": "{}",
         "name": "silver_schema",
         "type": "\"string\""
        },
        {
         "metadata": "{}",
         "name": "silver_tbl",
         "type": "\"string\""
        },
        {
         "metadata": "{}",
         "name": "gold_schema",
         "type": "\"string\""
        },
        {
         "metadata": "{}",
         "name": "gold_tbl",
         "type": "\"string\""
        }
       ],
       "type": "table"
      }
     },
     "output_type": "display_data"
    }
   ],
   "source": [
    "%sql\n",
    "-- sftp query\n",
    "select control.source_ref_id, control.host_name, control.port, control.user_name, control.secret_name, control.storage_account, control.adls_url, control.container_name, control.logic_app_url, control.email_id, param.source_file_or_table_name, param.adls_file_path, param.bronze_schema, param.bronze_tbl, param.silver_schema, param.silver_tbl, param.gold_schema, param.gold_tbl from metadata_schema.tbl_source_control as control join metadata_schema.tbl_parameters as param on control.job_id = param.job_id where param.job_id = 101\n",
    "\n"
   ]
  },
  {
   "cell_type": "code",
   "execution_count": 0,
   "metadata": {
    "application/vnd.databricks.v1+cell": {
     "cellMetadata": {},
     "inputWidgets": {},
     "nuid": "189998cd-68b0-4e2b-b8cb-56ad380cb5cb",
     "showTitle": false,
     "tableResultSettingsMap": {},
     "title": ""
    }
   },
   "outputs": [],
   "source": [
    "#sftp lookup adf\n",
    "@concat('select control.source_ref_id, control.host_name, control.port, control.user_name, control.secret_name, control.storage_account, control.adls_url, control.container_name, control.logic_app_url, control.email_id, param.source_file_or_table_name, param.source_file_path, param.adls_file_path, param.bronze_schema, param.bronze_tbl, param.silver_schema, param.silver_tbl, param.gold_schema, param.gold_tbl from ', pipeline().parameters.metadata_database,'.tbl_source_control as control join ',pipeline().parameters.metadata_database,'.tbl_parameters as param on control.job_id = param.job_id where param.job_id = ',pipeline().parameters.job_id)\n"
   ]
  }
 ],
 "metadata": {
  "application/vnd.databricks.v1+notebook": {
   "computePreferences": null,
   "dashboards": [],
   "environmentMetadata": {
    "base_environment": "",
    "environment_version": "1"
   },
   "language": "python",
   "notebookMetadata": {
    "mostRecentlyExecutedCommandWithImplicitDF": {
     "commandId": 8162610129590503,
     "dataframes": [
      "_sqldf"
     ]
    },
    "pythonIndentUnit": 4
   },
   "notebookName": "adf_metadata_lookup_queries",
   "widgets": {}
  },
  "language_info": {
   "name": "python"
  }
 },
 "nbformat": 4,
 "nbformat_minor": 0
}